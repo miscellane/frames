{
 "cells": [
  {
   "cell_type": "markdown",
   "id": "041298ec-fa84-4740-a1d8-46a80bc01eb4",
   "metadata": {},
   "source": [
    "# Preliminaries"
   ]
  },
  {
   "cell_type": "code",
   "execution_count": 1,
   "id": "b31f7c75-c80c-4885-b2a2-65d265481206",
   "metadata": {},
   "outputs": [],
   "source": [
    "import sys"
   ]
  },
  {
   "cell_type": "markdown",
   "id": "b706a6e3-6806-4c69-b0f2-44eaa7dfe915",
   "metadata": {},
   "source": [
    "<br>\n",
    "\n",
    "The container's python intepreter path"
   ]
  },
  {
   "cell_type": "code",
   "execution_count": 2,
   "id": "d7736344-9170-4508-8d49-88391b60b8e8",
   "metadata": {},
   "outputs": [
    {
     "data": {
      "text/plain": [
       "'/opt/conda/bin/python'"
      ]
     },
     "execution_count": 2,
     "metadata": {},
     "output_type": "execute_result"
    }
   ],
   "source": [
    "sys.executable"
   ]
  },
  {
   "cell_type": "markdown",
   "id": "1afe7e0c-1c02-4b46-be4d-16de0376f07d",
   "metadata": {},
   "source": [
    "<br>\n",
    "\n",
    "And"
   ]
  },
  {
   "cell_type": "code",
   "execution_count": 3,
   "id": "c9567ee3-24c7-4271-8d57-7dcd642d5039",
   "metadata": {},
   "outputs": [],
   "source": [
    "NEWLINE = '\\n'"
   ]
  },
  {
   "cell_type": "code",
   "execution_count": 4,
   "id": "4878cec4-9062-4d0b-a5dc-f39b8dc998ee",
   "metadata": {},
   "outputs": [
    {
     "data": {
      "text/plain": [
       "\"3.11.4 | packaged by conda-forge | (main, Jun 10 2023, 18:08:17) [GCC 12.2.0],\\nsys.version_info(major=3, minor=11, micro=4, releaselevel='final', serial=0)\""
      ]
     },
     "execution_count": 4,
     "metadata": {},
     "output_type": "execute_result"
    }
   ],
   "source": [
    "f'{sys.version},{NEWLINE}{sys.version_info}'"
   ]
  },
  {
   "cell_type": "markdown",
   "id": "74b8a411-b660-4134-9d66-5c5aa77e1ef5",
   "metadata": {},
   "source": [
    "<br>\n",
    "\n",
    "## Libraries"
   ]
  },
  {
   "cell_type": "code",
   "execution_count": 5,
   "id": "f217a624-7465-4aab-b611-fee0927e3d7c",
   "metadata": {},
   "outputs": [],
   "source": [
    "!pip list > packages.log"
   ]
  },
  {
   "cell_type": "markdown",
   "id": "d762eff7-194c-4c59-8967-2c2e986e3f0c",
   "metadata": {},
   "source": [
    "<br>\n",
    "<br>\n",
    "\n",
    "# Explore"
   ]
  },
  {
   "cell_type": "code",
   "execution_count": 6,
   "id": "5e9d0e8a-3617-46fc-b487-3431ba8ec4d5",
   "metadata": {},
   "outputs": [
    {
     "name": "stderr",
     "output_type": "stream",
     "text": [
      "\n",
      "\n",
      "frames\n",
      "2023-07-29 14:02:56.889\n",
      "\n",
      "\n",
      "[[0.71598241]\n",
      " [0.98922276]\n",
      " [0.99469596]\n",
      " [0.46583188]\n",
      " [0.1484019 ]\n",
      " [0.34786263]\n",
      " [0.22192328]\n",
      " [0.95796348]\n",
      " [0.57532074]\n",
      " [0.89682813]\n",
      " [0.57095415]\n",
      " [0.75759383]\n",
      " [0.46289638]\n",
      " [0.93227183]\n",
      " [0.69704313]\n",
      " [0.02899704]]\n",
      "2023-07-29 14:02:56.890\n"
     ]
    }
   ],
   "source": [
    "%run src/main.py"
   ]
  }
 ],
 "metadata": {
  "kernelspec": {
   "display_name": "Python 3 (ipykernel)",
   "language": "python",
   "name": "python3"
  },
  "language_info": {
   "codemirror_mode": {
    "name": "ipython",
    "version": 3
   },
   "file_extension": ".py",
   "mimetype": "text/x-python",
   "name": "python",
   "nbconvert_exporter": "python",
   "pygments_lexer": "ipython3",
   "version": "3.11.4"
  }
 },
 "nbformat": 4,
 "nbformat_minor": 5
}
